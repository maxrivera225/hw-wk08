{
 "cells": [
  {
   "cell_type": "markdown",
   "id": "323e077d",
   "metadata": {},
   "source": [
    "## Q. 1 - Defined Functions\n",
    "\n",
    "Build a function that takes a dollar amoount from a previous year and returns its value in 2023 dollars rounded to ONE decimal places.\n",
    "\n",
    "To accomplish this, you will need to know the formula for converting old dollar amounts to a more current value (hint: you will need to know the CPI conversion formula).\n",
    "\n",
    "The most recent full-year CPI is for 2023 at `304.7`. Here's the <a href=\"https://github.com/sandeepmj/datasets/blob/main/cpi-to-2023.csv\">CPI for previous years</a>.\n",
    "\n",
    "**Important Note**: At this time, you will need to manually insert the old year CPI as an argument for a parameter. \n"
   ]
  },
  {
   "cell_type": "code",
   "execution_count": 169,
   "id": "14fdd845",
   "metadata": {},
   "outputs": [],
   "source": [
    "## code it here\n",
    "def cpi(cash, old_cpi):\n",
    "    todays_cash = (cash * old_cpi)/304.7\n",
    "    print(round(todays_cash, 1))\n"
   ]
  },
  {
   "cell_type": "code",
   "execution_count": 89,
   "id": "65c40904",
   "metadata": {},
   "outputs": [],
   "source": []
  },
  {
   "cell_type": "code",
   "execution_count": 170,
   "id": "1ebe5e42",
   "metadata": {},
   "outputs": [
    {
     "name": "stdout",
     "output_type": "stream",
     "text": [
      "480.1\n"
     ]
    }
   ],
   "source": [
    "## test it here on a few previous years \n",
    "cpi(500, 292.6)\n"
   ]
  },
  {
   "cell_type": "code",
   "execution_count": 171,
   "id": "b9868534",
   "metadata": {},
   "outputs": [
    {
     "name": "stdout",
     "output_type": "stream",
     "text": [
      "419.5\n",
      "257.5\n",
      "500.0\n"
     ]
    }
   ],
   "source": [
    "## test it here on a few previous years\n",
    "cpi(500,255.65)\n",
    "cpi(500,156.9)\n",
    "cpi(500,304.7)"
   ]
  },
  {
   "cell_type": "markdown",
   "id": "77eb5632",
   "metadata": {},
   "source": [
    "## Q. 2 - Movie Sales\n",
    "\n",
    "Here is the  <a href=\"https://github.com/sandeepmj/datasets/blob/main/movie-sales.csv\">repo that holds the top movies by release-year sales</a> for each year going back to 1995.\n",
    "\n",
    "Which are the 5 movies that grossed the most in the year they were released? "
   ]
  },
  {
   "cell_type": "code",
   "execution_count": 139,
   "id": "e63d15dd",
   "metadata": {},
   "outputs": [
    {
     "data": {
      "text/html": [
       "<div>\n",
       "<style scoped>\n",
       "    .dataframe tbody tr th:only-of-type {\n",
       "        vertical-align: middle;\n",
       "    }\n",
       "\n",
       "    .dataframe tbody tr th {\n",
       "        vertical-align: top;\n",
       "    }\n",
       "\n",
       "    .dataframe thead th {\n",
       "        text-align: right;\n",
       "    }\n",
       "</style>\n",
       "<table border=\"1\" class=\"dataframe\">\n",
       "  <thead>\n",
       "    <tr style=\"text-align: right;\">\n",
       "      <th></th>\n",
       "      <th>release_year</th>\n",
       "      <th>title</th>\n",
       "      <th>rating</th>\n",
       "      <th>studio</th>\n",
       "      <th>release_year_total</th>\n",
       "      <th>release_yr_tickets</th>\n",
       "      <th>cpi</th>\n",
       "    </tr>\n",
       "  </thead>\n",
       "  <tbody>\n",
       "    <tr>\n",
       "      <th>0</th>\n",
       "      <td>1995</td>\n",
       "      <td>Batman Forever</td>\n",
       "      <td>PG-13</td>\n",
       "      <td>Warner Bros.</td>\n",
       "      <td>184031112</td>\n",
       "      <td>42306002</td>\n",
       "      <td>152</td>\n",
       "    </tr>\n",
       "    <tr>\n",
       "      <th>1</th>\n",
       "      <td>1996</td>\n",
       "      <td>Independence Day</td>\n",
       "      <td>PG-13</td>\n",
       "      <td>20th Century Fox</td>\n",
       "      <td>306169255</td>\n",
       "      <td>69269062</td>\n",
       "      <td>157</td>\n",
       "    </tr>\n",
       "    <tr>\n",
       "      <th>2</th>\n",
       "      <td>1997</td>\n",
       "      <td>Men in Black</td>\n",
       "      <td>PG-13</td>\n",
       "      <td>Sony Pictures</td>\n",
       "      <td>250650052</td>\n",
       "      <td>54607854</td>\n",
       "      <td>160</td>\n",
       "    </tr>\n",
       "    <tr>\n",
       "      <th>3</th>\n",
       "      <td>1998</td>\n",
       "      <td>Titanic</td>\n",
       "      <td>PG-13</td>\n",
       "      <td>Paramount Pictures</td>\n",
       "      <td>488192879</td>\n",
       "      <td>104092298</td>\n",
       "      <td>163</td>\n",
       "    </tr>\n",
       "    <tr>\n",
       "      <th>4</th>\n",
       "      <td>1999</td>\n",
       "      <td>Star Wars Ep. I: The Phantom Menace</td>\n",
       "      <td>PG</td>\n",
       "      <td>20th Century Fox</td>\n",
       "      <td>430443350</td>\n",
       "      <td>84732942</td>\n",
       "      <td>167</td>\n",
       "    </tr>\n",
       "  </tbody>\n",
       "</table>\n",
       "</div>"
      ],
      "text/plain": [
       "   release_year                                title rating  \\\n",
       "0          1995                       Batman Forever  PG-13   \n",
       "1          1996                     Independence Day  PG-13   \n",
       "2          1997                         Men in Black  PG-13   \n",
       "3          1998                              Titanic  PG-13   \n",
       "4          1999  Star Wars Ep. I: The Phantom Menace     PG   \n",
       "\n",
       "               studio  release_year_total  release_yr_tickets  cpi  \n",
       "0        Warner Bros.           184031112            42306002  152  \n",
       "1    20th Century Fox           306169255            69269062  157  \n",
       "2       Sony Pictures           250650052            54607854  160  \n",
       "3  Paramount Pictures           488192879           104092298  163  \n",
       "4    20th Century Fox           430443350            84732942  167  "
      ]
     },
     "execution_count": 139,
     "metadata": {},
     "output_type": "execute_result"
    }
   ],
   "source": [
    "## code it here...create more cells as necessary.\n",
    "import pandas as pd\n",
    "df = pd.read_csv(\"https://raw.githubusercontent.com/sandeepmj/datasets/main/movie-sales.csv\")\n",
    "\n",
    "df.head()"
   ]
  },
  {
   "cell_type": "code",
   "execution_count": 140,
   "id": "3dd02fad",
   "metadata": {},
   "outputs": [
    {
     "data": {
      "text/html": [
       "<div>\n",
       "<style scoped>\n",
       "    .dataframe tbody tr th:only-of-type {\n",
       "        vertical-align: middle;\n",
       "    }\n",
       "\n",
       "    .dataframe tbody tr th {\n",
       "        vertical-align: top;\n",
       "    }\n",
       "\n",
       "    .dataframe thead th {\n",
       "        text-align: right;\n",
       "    }\n",
       "</style>\n",
       "<table border=\"1\" class=\"dataframe\">\n",
       "  <thead>\n",
       "    <tr style=\"text-align: right;\">\n",
       "      <th></th>\n",
       "      <th>release_year</th>\n",
       "      <th>title</th>\n",
       "      <th>rating</th>\n",
       "      <th>studio</th>\n",
       "      <th>release_year_total</th>\n",
       "      <th>release_yr_tickets</th>\n",
       "      <th>cpi</th>\n",
       "      <th>top_adjusted</th>\n",
       "    </tr>\n",
       "  </thead>\n",
       "  <tbody>\n",
       "    <tr>\n",
       "      <th>24</th>\n",
       "      <td>2019</td>\n",
       "      <td>Avengers: Endgame</td>\n",
       "      <td>PG-13</td>\n",
       "      <td>Walt Disney</td>\n",
       "      <td>858373000</td>\n",
       "      <td>93708843</td>\n",
       "      <td>256</td>\n",
       "      <td>720,213,541</td>\n",
       "    </tr>\n",
       "    <tr>\n",
       "      <th>27</th>\n",
       "      <td>2022</td>\n",
       "      <td>Top Gun: Maverick</td>\n",
       "      <td>PG-13</td>\n",
       "      <td>Paramount Pictures</td>\n",
       "      <td>718732821</td>\n",
       "      <td>68255728</td>\n",
       "      <td>293</td>\n",
       "      <td>690,320,820</td>\n",
       "    </tr>\n",
       "    <tr>\n",
       "      <th>28</th>\n",
       "      <td>2023</td>\n",
       "      <td>Barbie</td>\n",
       "      <td>PG-13</td>\n",
       "      <td>Warner Bros.</td>\n",
       "      <td>636225983</td>\n",
       "      <td>59019108</td>\n",
       "      <td>305</td>\n",
       "      <td>636,225,983</td>\n",
       "    </tr>\n",
       "    <tr>\n",
       "      <th>20</th>\n",
       "      <td>2015</td>\n",
       "      <td>Star Wars Ep. VII: The Force Awakens</td>\n",
       "      <td>PG-13</td>\n",
       "      <td>Walt Disney</td>\n",
       "      <td>742208942</td>\n",
       "      <td>88043765</td>\n",
       "      <td>237</td>\n",
       "      <td>577,342,097</td>\n",
       "    </tr>\n",
       "    <tr>\n",
       "      <th>23</th>\n",
       "      <td>2018</td>\n",
       "      <td>Black Panther</td>\n",
       "      <td>PG-13</td>\n",
       "      <td>Walt Disney</td>\n",
       "      <td>700059566</td>\n",
       "      <td>76845177</td>\n",
       "      <td>251</td>\n",
       "      <td>576,927,658</td>\n",
       "    </tr>\n",
       "  </tbody>\n",
       "</table>\n",
       "</div>"
      ],
      "text/plain": [
       "    release_year                                 title rating  \\\n",
       "24          2019                     Avengers: Endgame  PG-13   \n",
       "27          2022                     Top Gun: Maverick  PG-13   \n",
       "28          2023                                Barbie  PG-13   \n",
       "20          2015  Star Wars Ep. VII: The Force Awakens  PG-13   \n",
       "23          2018                         Black Panther  PG-13   \n",
       "\n",
       "                studio  release_year_total  release_yr_tickets  cpi  \\\n",
       "24         Walt Disney           858373000            93708843  256   \n",
       "27  Paramount Pictures           718732821            68255728  293   \n",
       "28        Warner Bros.           636225983            59019108  305   \n",
       "20         Walt Disney           742208942            88043765  237   \n",
       "23         Walt Disney           700059566            76845177  251   \n",
       "\n",
       "    top_adjusted  \n",
       "24   720,213,541  \n",
       "27   690,320,820  \n",
       "28   636,225,983  \n",
       "20   577,342,097  \n",
       "23   576,927,658  "
      ]
     },
     "execution_count": 140,
     "metadata": {},
     "output_type": "execute_result"
    }
   ],
   "source": [
    "df[\"top_adjusted\"] = df.apply(lambda x: x[\"release_year_total\"] * (x[\"cpi\"] / 304.7), axis = 1)\n",
    "df\n",
    "pd.options.display.float_format = '{:,.0f}'.format\n",
    "df.sort_values(by=\"top_adjusted\", ascending = False).head()"
   ]
  },
  {
   "cell_type": "markdown",
   "id": "a866a79d",
   "metadata": {},
   "source": [
    "## Q. 3 Challenge\n",
    "\n",
    "Can you figure out another way to get only the top 5?"
   ]
  },
  {
   "cell_type": "code",
   "execution_count": 215,
   "id": "e446312c",
   "metadata": {},
   "outputs": [
    {
     "data": {
      "text/html": [
       "<div>\n",
       "<style scoped>\n",
       "    .dataframe tbody tr th:only-of-type {\n",
       "        vertical-align: middle;\n",
       "    }\n",
       "\n",
       "    .dataframe tbody tr th {\n",
       "        vertical-align: top;\n",
       "    }\n",
       "\n",
       "    .dataframe thead th {\n",
       "        text-align: right;\n",
       "    }\n",
       "</style>\n",
       "<table border=\"1\" class=\"dataframe\">\n",
       "  <thead>\n",
       "    <tr style=\"text-align: right;\">\n",
       "      <th></th>\n",
       "      <th>release_year</th>\n",
       "      <th>title</th>\n",
       "      <th>rating</th>\n",
       "      <th>studio</th>\n",
       "      <th>release_year_total</th>\n",
       "      <th>release_yr_tickets</th>\n",
       "      <th>cpi</th>\n",
       "      <th>top_adjusted</th>\n",
       "    </tr>\n",
       "  </thead>\n",
       "  <tbody>\n",
       "    <tr>\n",
       "      <th>24</th>\n",
       "      <td>2019</td>\n",
       "      <td>Avengers: Endgame</td>\n",
       "      <td>PG-13</td>\n",
       "      <td>Walt Disney</td>\n",
       "      <td>858373000</td>\n",
       "      <td>93708843</td>\n",
       "      <td>256</td>\n",
       "      <td>720,213,541</td>\n",
       "    </tr>\n",
       "    <tr>\n",
       "      <th>27</th>\n",
       "      <td>2022</td>\n",
       "      <td>Top Gun: Maverick</td>\n",
       "      <td>PG-13</td>\n",
       "      <td>Paramount Pictures</td>\n",
       "      <td>718732821</td>\n",
       "      <td>68255728</td>\n",
       "      <td>293</td>\n",
       "      <td>690,320,820</td>\n",
       "    </tr>\n",
       "    <tr>\n",
       "      <th>28</th>\n",
       "      <td>2023</td>\n",
       "      <td>Barbie</td>\n",
       "      <td>PG-13</td>\n",
       "      <td>Warner Bros.</td>\n",
       "      <td>636225983</td>\n",
       "      <td>59019108</td>\n",
       "      <td>305</td>\n",
       "      <td>636,225,983</td>\n",
       "    </tr>\n",
       "    <tr>\n",
       "      <th>20</th>\n",
       "      <td>2015</td>\n",
       "      <td>Star Wars Ep. VII: The Force Awakens</td>\n",
       "      <td>PG-13</td>\n",
       "      <td>Walt Disney</td>\n",
       "      <td>742208942</td>\n",
       "      <td>88043765</td>\n",
       "      <td>237</td>\n",
       "      <td>577,342,097</td>\n",
       "    </tr>\n",
       "    <tr>\n",
       "      <th>23</th>\n",
       "      <td>2018</td>\n",
       "      <td>Black Panther</td>\n",
       "      <td>PG-13</td>\n",
       "      <td>Walt Disney</td>\n",
       "      <td>700059566</td>\n",
       "      <td>76845177</td>\n",
       "      <td>251</td>\n",
       "      <td>576,927,658</td>\n",
       "    </tr>\n",
       "  </tbody>\n",
       "</table>\n",
       "</div>"
      ],
      "text/plain": [
       "    release_year                                 title rating  \\\n",
       "24          2019                     Avengers: Endgame  PG-13   \n",
       "27          2022                     Top Gun: Maverick  PG-13   \n",
       "28          2023                                Barbie  PG-13   \n",
       "20          2015  Star Wars Ep. VII: The Force Awakens  PG-13   \n",
       "23          2018                         Black Panther  PG-13   \n",
       "\n",
       "                studio  release_year_total  release_yr_tickets  cpi  \\\n",
       "24         Walt Disney           858373000            93708843  256   \n",
       "27  Paramount Pictures           718732821            68255728  293   \n",
       "28        Warner Bros.           636225983            59019108  305   \n",
       "20         Walt Disney           742208942            88043765  237   \n",
       "23         Walt Disney           700059566            76845177  251   \n",
       "\n",
       "    top_adjusted  \n",
       "24   720,213,541  \n",
       "27   690,320,820  \n",
       "28   636,225,983  \n",
       "20   577,342,097  \n",
       "23   576,927,658  "
      ]
     },
     "execution_count": 215,
     "metadata": {},
     "output_type": "execute_result"
    }
   ],
   "source": [
    "## code it here\n",
    "\n",
    "df1 = df.query(\"576927657 <= top_adjusted <= 720213542\")\n",
    "df1.sort_values(by=\"top_adjusted\", ascending = False)"
   ]
  },
  {
   "cell_type": "markdown",
   "id": "ae8a7540",
   "metadata": {},
   "source": [
    "## Q. 4 What was the median since 1995 (inflation adjusted)\n",
    "\n",
    "Place in a sentence with pleasing formating.\n"
   ]
  },
  {
   "cell_type": "code",
   "execution_count": 130,
   "id": "fa0b9509",
   "metadata": {},
   "outputs": [
    {
     "data": {
      "text/plain": [
       "'$280,080,301 is the median gross adjusted earnings for blockbuster films since 1995.'"
      ]
     },
     "execution_count": 130,
     "metadata": {},
     "output_type": "execute_result"
    }
   ],
   "source": [
    "## code here\n",
    "f'${df[\"top_adjusted\"].median():,.0f} is the median gross adjusted earnings for blockbuster films since 1995.'"
   ]
  },
  {
   "cell_type": "markdown",
   "id": "31777505",
   "metadata": {},
   "source": [
    "# Q. 5 Multiple values at one time\n",
    "\n",
    "Calculate the sum, mean, median, max and min for ticket sales, revenue year it was released and inflation adjusted revenue\n",
    "\n",
    "\n"
   ]
  },
  {
   "cell_type": "code",
   "execution_count": 82,
   "id": "54f78490",
   "metadata": {},
   "outputs": [
    {
     "data": {
      "text/html": [
       "<div>\n",
       "<style scoped>\n",
       "    .dataframe tbody tr th:only-of-type {\n",
       "        vertical-align: middle;\n",
       "    }\n",
       "\n",
       "    .dataframe tbody tr th {\n",
       "        vertical-align: top;\n",
       "    }\n",
       "\n",
       "    .dataframe thead th {\n",
       "        text-align: right;\n",
       "    }\n",
       "</style>\n",
       "<table border=\"1\" class=\"dataframe\">\n",
       "  <thead>\n",
       "    <tr style=\"text-align: right;\">\n",
       "      <th></th>\n",
       "      <th>top_adjusted</th>\n",
       "      <th>release_yr_tickets</th>\n",
       "      <th>release_year_total</th>\n",
       "    </tr>\n",
       "  </thead>\n",
       "  <tbody>\n",
       "    <tr>\n",
       "      <th>mean</th>\n",
       "      <td>331,983,236.8</td>\n",
       "      <td>62,101,941.0</td>\n",
       "      <td>450,688,413.8</td>\n",
       "    </tr>\n",
       "    <tr>\n",
       "      <th>sum</th>\n",
       "      <td>9,627,513,868.1</td>\n",
       "      <td>1,800,956,289.0</td>\n",
       "      <td>13,069,964,000.0</td>\n",
       "    </tr>\n",
       "    <tr>\n",
       "      <th>median</th>\n",
       "      <td>280,080,300.9</td>\n",
       "      <td>57,660,910.0</td>\n",
       "      <td>415,004,880.0</td>\n",
       "    </tr>\n",
       "    <tr>\n",
       "      <th>max</th>\n",
       "      <td>720,213,541.4</td>\n",
       "      <td>104,092,298.0</td>\n",
       "      <td>858,373,000.0</td>\n",
       "    </tr>\n",
       "    <tr>\n",
       "      <th>min</th>\n",
       "      <td>92,045,754.7</td>\n",
       "      <td>22,267,740.0</td>\n",
       "      <td>184,031,112.0</td>\n",
       "    </tr>\n",
       "  </tbody>\n",
       "</table>\n",
       "</div>"
      ],
      "text/plain": [
       "          top_adjusted  release_yr_tickets  release_year_total\n",
       "mean     331,983,236.8        62,101,941.0       450,688,413.8\n",
       "sum    9,627,513,868.1     1,800,956,289.0    13,069,964,000.0\n",
       "median   280,080,300.9        57,660,910.0       415,004,880.0\n",
       "max      720,213,541.4       104,092,298.0       858,373,000.0\n",
       "min       92,045,754.7        22,267,740.0       184,031,112.0"
      ]
     },
     "execution_count": 82,
     "metadata": {},
     "output_type": "execute_result"
    }
   ],
   "source": [
    "## code here\n",
    "df[[\"top_adjusted\", \"release_yr_tickets\", \"release_year_total\"]].agg([\"mean\", \"sum\", \"median\",\"max\", \"min\"])"
   ]
  },
  {
   "cell_type": "code",
   "execution_count": null,
   "id": "0aca87d4",
   "metadata": {},
   "outputs": [],
   "source": []
  }
 ],
 "metadata": {
  "kernelspec": {
   "display_name": "Python 3 (ipykernel)",
   "language": "python",
   "name": "python3"
  },
  "language_info": {
   "codemirror_mode": {
    "name": "ipython",
    "version": 3
   },
   "file_extension": ".py",
   "mimetype": "text/x-python",
   "name": "python",
   "nbconvert_exporter": "python",
   "pygments_lexer": "ipython3",
   "version": "3.11.5"
  }
 },
 "nbformat": 4,
 "nbformat_minor": 5
}
